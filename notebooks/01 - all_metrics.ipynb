{
 "cells": [
  {
   "cell_type": "code",
   "execution_count": 1,
   "metadata": {},
   "outputs": [],
   "source": [
    "%load_ext autoreload\n",
    "%autoreload 2\n"
   ]
  },
  {
   "cell_type": "code",
   "execution_count": 2,
   "metadata": {},
   "outputs": [
    {
     "name": "stdout",
     "output_type": "stream",
     "text": [
      "Sentinel2\n"
     ]
    },
    {
     "ename": "TypeError",
     "evalue": "BaseEnvironmentalMetric._preprocess_geometry() missing 1 required positional argument: 'source_crs'",
     "output_type": "error",
     "traceback": [
      "\u001b[0;31m---------------------------------------------------------------------------\u001b[0m",
      "\u001b[0;31mTypeError\u001b[0m                                 Traceback (most recent call last)",
      "Cell \u001b[0;32mIn[2], line 60\u001b[0m\n\u001b[1;32m     57\u001b[0m metric_instance \u001b[38;5;241m=\u001b[39m metric()\n\u001b[1;32m     58\u001b[0m \u001b[38;5;28mprint\u001b[39m(metric\u001b[38;5;241m.\u001b[39m\u001b[38;5;18m__name__\u001b[39m)\n\u001b[1;32m     59\u001b[0m display(\n\u001b[0;32m---> 60\u001b[0m     \u001b[43mmetric_instance\u001b[49m\u001b[38;5;241;43m.\u001b[39;49m\u001b[43mget_data\u001b[49m\u001b[43m(\u001b[49m\n\u001b[1;32m     61\u001b[0m \u001b[43m        \u001b[49m\u001b[43mpolygon\u001b[49m\u001b[38;5;241;43m=\u001b[39;49m\u001b[43mpolygon\u001b[49m\u001b[43m,\u001b[49m\n\u001b[1;32m     62\u001b[0m \u001b[43m        \u001b[49m\u001b[43mstart_date\u001b[49m\u001b[38;5;241;43m=\u001b[39;49m\u001b[43mstart_date\u001b[49m\u001b[43m,\u001b[49m\n\u001b[1;32m     63\u001b[0m \u001b[43m        \u001b[49m\u001b[43mend_date\u001b[49m\u001b[38;5;241;43m=\u001b[39;49m\u001b[43mend_date\u001b[49m\u001b[43m,\u001b[49m\n\u001b[1;32m     64\u001b[0m \u001b[43m        \u001b[49m\u001b[43mpolygon_crs\u001b[49m\u001b[38;5;241;43m=\u001b[39;49m\u001b[43mpolygon_crs\u001b[49m\u001b[43m,\u001b[49m\n\u001b[1;32m     65\u001b[0m \u001b[43m    \u001b[49m\u001b[43m)\u001b[49m\n\u001b[1;32m     66\u001b[0m )\n",
      "File \u001b[0;32m~/risk-reports/src/environmental_risk_metrics/metrics/ndvi.py:318\u001b[0m, in \u001b[0;36mSentinel2.get_data\u001b[0;34m(self, start_date, end_date, polygon, polygon_crs, all_touched)\u001b[0m\n\u001b[1;32m    309\u001b[0m \u001b[38;5;28;01mdef\u001b[39;00m \u001b[38;5;21mget_data\u001b[39m(\n\u001b[1;32m    310\u001b[0m     \u001b[38;5;28mself\u001b[39m,\n\u001b[1;32m    311\u001b[0m     start_date: \u001b[38;5;28mstr\u001b[39m,\n\u001b[0;32m   (...)\u001b[0m\n\u001b[1;32m    315\u001b[0m     all_touched: \u001b[38;5;28mbool\u001b[39m \u001b[38;5;241m=\u001b[39m \u001b[38;5;28;01mTrue\u001b[39;00m,\n\u001b[1;32m    316\u001b[0m ) \u001b[38;5;241m-\u001b[39m\u001b[38;5;241m>\u001b[39m pd\u001b[38;5;241m.\u001b[39mDataFrame:\n\u001b[1;32m    317\u001b[0m \u001b[38;5;250m    \u001b[39m\u001b[38;5;124;03m\"\"\"Get mean NDVI values for a given polygon\"\"\"\u001b[39;00m\n\u001b[0;32m--> 318\u001b[0m     polygon \u001b[38;5;241m=\u001b[39m \u001b[38;5;28;43mself\u001b[39;49m\u001b[38;5;241;43m.\u001b[39;49m\u001b[43m_preprocess_geometry\u001b[49m\u001b[43m(\u001b[49m\u001b[43mpolygon\u001b[49m\u001b[43m)\u001b[49m\n\u001b[1;32m    319\u001b[0m     \u001b[38;5;28;01mreturn\u001b[39;00m \u001b[38;5;28mself\u001b[39m\u001b[38;5;241m.\u001b[39mcalculate_mean_ndvi(\n\u001b[1;32m    320\u001b[0m         start_date, end_date, polygon, polygon_crs, \u001b[38;5;28mself\u001b[39m\u001b[38;5;241m.\u001b[39mresolution, all_touched\n\u001b[1;32m    321\u001b[0m     )\n",
      "\u001b[0;31mTypeError\u001b[0m: BaseEnvironmentalMetric._preprocess_geometry() missing 1 required positional argument: 'source_crs'"
     ]
    }
   ],
   "source": [
    "from environmental_risk_metrics import (\n",
    "    Sentinel2,\n",
    "    EsaLandCover,\n",
    "    EsriLandCover,\n",
    "    OpenLandMapLandCover,\n",
    "    SoilOrganicCarbon,\n",
    "    SoilTypes,\n",
    "    EndangeredSpecies,\n",
    "    RamsarProtectedAreas,\n",
    "    GlobalWitness,\n",
    ")\n",
    "import logging\n",
    "\n",
    "# Configure logging to display in Jupyter\n",
    "logging.basicConfig(\n",
    "    level=logging.INFO,\n",
    "    format=\"%(asctime)s - %(name)s - %(levelname)s - %(message)s\",\n",
    "    force=True,  # This ensures the configuration is applied even if logging was previously configured\n",
    ")\n",
    "logger = logging.getLogger(__name__)\n",
    "\n",
    "\n",
    "polygon = {\n",
    "    \"type\": \"Feature\",\n",
    "    \"properties\": {},\n",
    "    \"geometry\": {\n",
    "        \"coordinates\": [\n",
    "            [\n",
    "                [10.235198982658801, 51.42076009745068],\n",
    "                [10.236477278753114, 51.41697045550828],\n",
    "                [10.244461712820623, 51.41823370440062],\n",
    "                [10.242888425319222, 51.4220355049745],\n",
    "                [10.235198982658801, 51.42076009745068],\n",
    "            ]\n",
    "        ],\n",
    "        \"type\": \"Polygon\",\n",
    "    },\n",
    "}\n",
    "\n",
    "start_date = \"2015-06-27\"\n",
    "end_date = \"2024-12-31\"\n",
    "\n",
    "polygon_crs = \"EPSG:4326\"\n",
    "\n",
    "\n",
    "for metric in [\n",
    "    Sentinel2,\n",
    "    EsaLandCover,\n",
    "    EsriLandCover,\n",
    "    OpenLandMapLandCover,\n",
    "    SoilOrganicCarbon,\n",
    "    SoilTypes,\n",
    "    EndangeredSpecies,\n",
    "    RamsarProtectedAreas,\n",
    "    GlobalWitness,\n",
    "]:\n",
    "    metric_instance = metric()\n",
    "    print(metric.__name__)\n",
    "    display(\n",
    "        metric_instance.get_data(\n",
    "            polygon=polygon,\n",
    "            start_date=start_date,\n",
    "            end_date=end_date,\n",
    "            polygon_crs=polygon_crs,\n",
    "        )\n",
    "    )\n"
   ]
  }
 ],
 "metadata": {
  "kernelspec": {
   "display_name": ".venv",
   "language": "python",
   "name": "python3"
  },
  "language_info": {
   "codemirror_mode": {
    "name": "ipython",
    "version": 3
   },
   "file_extension": ".py",
   "mimetype": "text/x-python",
   "name": "python",
   "nbconvert_exporter": "python",
   "pygments_lexer": "ipython3",
   "version": "3.12.6"
  }
 },
 "nbformat": 4,
 "nbformat_minor": 2
}
